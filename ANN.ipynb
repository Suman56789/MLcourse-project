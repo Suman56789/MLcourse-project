{
  "cells": [
    {
      "cell_type": "code",
      "execution_count": 61,
      "metadata": {
        "id": "M-5zwfHwxVNZ"
      },
      "outputs": [],
      "source": [
        "import tensorflow as tf\n",
        "from tensorflow import keras\n",
        "from keras.utils import to_categorical"
      ]
    },
    {
      "cell_type": "code",
      "execution_count": 62,
      "metadata": {
        "id": "A5eVcPmg0uIO"
      },
      "outputs": [],
      "source": [
        "import pandas as pd"
      ]
    },
    {
      "cell_type": "code",
      "execution_count": 63,
      "metadata": {
        "id": "1vZERjYy0xfE"
      },
      "outputs": [],
      "source": [
        "dataset=pd.read_csv('Features.csv',names=['Person','TIme','Xaxis','YAxis','ZAxis','Magnitude'])"
      ]
    },
    {
      "cell_type": "code",
      "execution_count": 64,
      "metadata": {
        "id": "tAWOevbg1FyN"
      },
      "outputs": [],
      "source": [
        "X=dataset.iloc[:,1:].values\n",
        "y=dataset.iloc[:,0].values\n"
      ]
    },
    {
      "cell_type": "code",
      "execution_count": 66,
      "metadata": {
        "id": "cDjnJ0ud1COZ"
      },
      "outputs": [],
      "source": [
        "y=to_categorical(y)"
      ]
    },
    {
      "cell_type": "code",
      "execution_count": 68,
      "metadata": {
        "id": "oEip6UWI0XHl"
      },
      "outputs": [],
      "source": [
        "from sklearn.model_selection import train_test_split\n",
        "X_train, X_test, y_train, y_test = train_test_split(X, y, test_size=0.2, random_state=42)\n",
        "X_train, X_val, y_train, y_val = train_test_split(X_train, y_train, test_size=0.2, random_state=42)"
      ]
    },
    {
      "cell_type": "code",
      "execution_count": 69,
      "metadata": {
        "colab": {
          "base_uri": "https://localhost:8080/"
        },
        "id": "Qql3tOMG16hr",
        "outputId": "6c6d62b6-5898-4bca-8310-4d515ec65c8a"
      },
      "outputs": [
        {
          "data": {
            "text/plain": [
              "((240, 5), (960, 5))"
            ]
          },
          "execution_count": 69,
          "metadata": {},
          "output_type": "execute_result"
        }
      ],
      "source": [
        "X_val.shape,X_train.shape"
      ]
    },
    {
      "cell_type": "code",
      "execution_count": 70,
      "metadata": {
        "id": "6dtt2JJZ0DUI"
      },
      "outputs": [],
      "source": [
        "model = keras.Sequential([\n",
        "    keras.layers.Dense(12, activation='relu', input_shape=(5,)),\n",
        "    keras.layers.Dense(8, activation='relu'),\n",
        "    keras.layers.Dense(6, activation='softmax')\n",
        "])"
      ]
    },
    {
      "cell_type": "code",
      "execution_count": 71,
      "metadata": {
        "id": "_EBX4KId0HuV"
      },
      "outputs": [],
      "source": [
        "model.compile(optimizer='adam', loss='binary_crossentropy', metrics=['accuracy'])"
      ]
    },
    {
      "cell_type": "code",
      "execution_count": 72,
      "metadata": {
        "colab": {
          "base_uri": "https://localhost:8080/"
        },
        "id": "T-bkMk580KCW",
        "outputId": "1fed018c-84dd-4a4e-b238-474ccb821949"
      },
      "outputs": [
        {
          "name": "stdout",
          "output_type": "stream",
          "text": [
            "Epoch 1/10\n",
            "30/30 [==============================] - 1s 8ms/step - loss: 3.4210 - accuracy: 0.1969 - val_loss: 2.2474 - val_accuracy: 0.1917\n",
            "Epoch 2/10\n",
            "30/30 [==============================] - 0s 4ms/step - loss: 1.6842 - accuracy: 0.1979 - val_loss: 1.0845 - val_accuracy: 0.1958\n",
            "Epoch 3/10\n",
            "30/30 [==============================] - 0s 3ms/step - loss: 0.8645 - accuracy: 0.1292 - val_loss: 0.6911 - val_accuracy: 0.1292\n",
            "Epoch 4/10\n",
            "30/30 [==============================] - 0s 3ms/step - loss: 0.6282 - accuracy: 0.1792 - val_loss: 0.5436 - val_accuracy: 0.3375\n",
            "Epoch 5/10\n",
            "30/30 [==============================] - 0s 3ms/step - loss: 0.4943 - accuracy: 0.3260 - val_loss: 0.4441 - val_accuracy: 0.4042\n",
            "Epoch 6/10\n",
            "30/30 [==============================] - 0s 3ms/step - loss: 0.4099 - accuracy: 0.4177 - val_loss: 0.3863 - val_accuracy: 0.4333\n",
            "Epoch 7/10\n",
            "30/30 [==============================] - 0s 3ms/step - loss: 0.3707 - accuracy: 0.4760 - val_loss: 0.3644 - val_accuracy: 0.4917\n",
            "Epoch 8/10\n",
            "30/30 [==============================] - 0s 3ms/step - loss: 0.3505 - accuracy: 0.4802 - val_loss: 0.3480 - val_accuracy: 0.4708\n",
            "Epoch 9/10\n",
            "30/30 [==============================] - 0s 6ms/step - loss: 0.3330 - accuracy: 0.5219 - val_loss: 0.3291 - val_accuracy: 0.5458\n",
            "Epoch 10/10\n",
            "30/30 [==============================] - 0s 7ms/step - loss: 0.3181 - accuracy: 0.5458 - val_loss: 0.3149 - val_accuracy: 0.5792\n"
          ]
        },
        {
          "data": {
            "text/plain": [
              "<keras.callbacks.History at 0x7f4680dc9eb0>"
            ]
          },
          "execution_count": 72,
          "metadata": {},
          "output_type": "execute_result"
        }
      ],
      "source": [
        "model.fit(X_train, y_train, epochs=10, batch_size=32, validation_data=(X_val, y_val))\n"
      ]
    },
    {
      "cell_type": "code",
      "execution_count": 73,
      "metadata": {
        "colab": {
          "base_uri": "https://localhost:8080/"
        },
        "id": "HIpMg6hS0L8v",
        "outputId": "129c6e86-73c4-443d-b4b6-1555d6d5a0dd"
      },
      "outputs": [
        {
          "name": "stdout",
          "output_type": "stream",
          "text": [
            "10/10 [==============================] - 0s 2ms/step - loss: 0.3031 - accuracy: 0.6133\n",
            "Test accuracy: 0.6133333444595337\n"
          ]
        }
      ],
      "source": [
        "test_loss, test_acc = model.evaluate(X_test, y_test)\n",
        "print('Test accuracy:', test_acc)"
      ]
    }
  ],
  "metadata": {
    "colab": {
      "provenance": []
    },
    "kernelspec": {
      "display_name": "Python 3",
      "name": "python3"
    },
    "language_info": {
      "name": "python"
    }
  },
  "nbformat": 4,
  "nbformat_minor": 0
}
