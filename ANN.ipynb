{
  "nbformat": 4,
  "nbformat_minor": 0,
  "metadata": {
    "colab": {
      "provenance": []
    },
    "kernelspec": {
      "name": "python3",
      "display_name": "Python 3"
    },
    "language_info": {
      "name": "python"
    }
  },
  "cells": [
    {
      "cell_type": "code",
      "execution_count": 30,
      "metadata": {
        "id": "M-5zwfHwxVNZ"
      },
      "outputs": [],
      "source": [
        "import tensorflow as tf\n",
        "from tensorflow import keras"
      ]
    },
    {
      "cell_type": "code",
      "source": [
        "import pandas as pd"
      ],
      "metadata": {
        "id": "A5eVcPmg0uIO"
      },
      "execution_count": 31,
      "outputs": []
    },
    {
      "cell_type": "code",
      "source": [
        "dataset=pd.read_csv('Features.csv',names=['Person','TIme','Xaxis','YAxis','ZAxis','Magnitude'])"
      ],
      "metadata": {
        "id": "1vZERjYy0xfE"
      },
      "execution_count": 32,
      "outputs": []
    },
    {
      "cell_type": "code",
      "source": [
        "X=dataset.iloc[:,1:].values\n",
        "y=dataset.iloc[:,0].values"
      ],
      "metadata": {
        "id": "tAWOevbg1FyN"
      },
      "execution_count": 33,
      "outputs": []
    },
    {
      "cell_type": "code",
      "source": [
        "from sklearn.model_selection import train_test_split\n",
        "X_train, X_test, y_train, y_test = train_test_split(X, y, test_size=0.2, random_state=42)\n",
        "X_train, X_val, y_train, y_val = train_test_split(X_train, y_train, test_size=0.2, random_state=42)"
      ],
      "metadata": {
        "id": "oEip6UWI0XHl"
      },
      "execution_count": 34,
      "outputs": []
    },
    {
      "cell_type": "code",
      "source": [
        "model = keras.Sequential([\n",
        "    keras.layers.Dense(64, activation='relu', input_shape=(5,)),\n",
        "    keras.layers.Dense(64, activation='relu'),\n",
        "    keras.layers.Dense(1, activation='sigmoid')\n",
        "])"
      ],
      "metadata": {
        "id": "6dtt2JJZ0DUI"
      },
      "execution_count": 35,
      "outputs": []
    },
    {
      "cell_type": "code",
      "source": [
        "model.compile(optimizer='adam', loss='binary_crossentropy', metrics=['accuracy'])"
      ],
      "metadata": {
        "id": "_EBX4KId0HuV"
      },
      "execution_count": 36,
      "outputs": []
    },
    {
      "cell_type": "code",
      "source": [
        "model.fit(X_train, y_train, epochs=10, batch_size=32, validation_data=(X_val, y_val))\n"
      ],
      "metadata": {
        "colab": {
          "base_uri": "https://localhost:8080/"
        },
        "id": "T-bkMk580KCW",
        "outputId": "fdc2d7e3-42da-4399-ad03-6c101180dca3"
      },
      "execution_count": 37,
      "outputs": [
        {
          "output_type": "stream",
          "name": "stdout",
          "text": [
            "Epoch 1/10\n",
            "30/30 [==============================] - 1s 9ms/step - loss: -29.7258 - accuracy: 0.1990 - val_loss: -65.4241 - val_accuracy: 0.2208\n",
            "Epoch 2/10\n",
            "30/30 [==============================] - 0s 4ms/step - loss: -118.9449 - accuracy: 0.1990 - val_loss: -192.3299 - val_accuracy: 0.2208\n",
            "Epoch 3/10\n",
            "30/30 [==============================] - 0s 4ms/step - loss: -314.3441 - accuracy: 0.1990 - val_loss: -481.7169 - val_accuracy: 0.2208\n",
            "Epoch 4/10\n",
            "30/30 [==============================] - 0s 3ms/step - loss: -736.1666 - accuracy: 0.1990 - val_loss: -1090.6964 - val_accuracy: 0.2208\n",
            "Epoch 5/10\n",
            "30/30 [==============================] - 0s 4ms/step - loss: -1570.7727 - accuracy: 0.1990 - val_loss: -2206.1746 - val_accuracy: 0.2208\n",
            "Epoch 6/10\n",
            "30/30 [==============================] - 0s 3ms/step - loss: -2997.3352 - accuracy: 0.1990 - val_loss: -3984.4131 - val_accuracy: 0.2208\n",
            "Epoch 7/10\n",
            "30/30 [==============================] - 0s 3ms/step - loss: -5143.8647 - accuracy: 0.1990 - val_loss: -6610.2319 - val_accuracy: 0.2208\n",
            "Epoch 8/10\n",
            "30/30 [==============================] - 0s 4ms/step - loss: -8187.1582 - accuracy: 0.1990 - val_loss: -10223.0752 - val_accuracy: 0.2208\n",
            "Epoch 9/10\n",
            "30/30 [==============================] - 0s 4ms/step - loss: -12300.7041 - accuracy: 0.1990 - val_loss: -14905.0068 - val_accuracy: 0.2208\n",
            "Epoch 10/10\n",
            "30/30 [==============================] - 0s 4ms/step - loss: -17578.9375 - accuracy: 0.1990 - val_loss: -20897.8164 - val_accuracy: 0.2208\n"
          ]
        },
        {
          "output_type": "execute_result",
          "data": {
            "text/plain": [
              "<keras.callbacks.History at 0x7fb5443a2ca0>"
            ]
          },
          "metadata": {},
          "execution_count": 37
        }
      ]
    },
    {
      "cell_type": "code",
      "source": [
        "test_loss, test_acc = model.evaluate(X_test, y_test)\n",
        "print('Test accuracy:', test_acc)"
      ],
      "metadata": {
        "colab": {
          "base_uri": "https://localhost:8080/"
        },
        "id": "HIpMg6hS0L8v",
        "outputId": "8d306bce-8ba5-4ac3-d751-a0646f497ab8"
      },
      "execution_count": 38,
      "outputs": [
        {
          "output_type": "stream",
          "name": "stdout",
          "text": [
            "10/10 [==============================] - 0s 2ms/step - loss: -21620.4902 - accuracy: 0.1867\n",
            "Test accuracy: 0.18666666746139526\n"
          ]
        }
      ]
    }
  ]
}