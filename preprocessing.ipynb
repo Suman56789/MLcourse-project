{
  "cells": [
    {
      "cell_type": "code",
      "execution_count": 123,
      "metadata": {
        "id": "Deppn-6Pkwgp"
      },
      "outputs": [],
      "source": [
        "import pandas as pd\n",
        "import math\n",
        "import numpy as np\n",
        "import csv"
      ]
    },
    {
      "cell_type": "code",
      "execution_count": 124,
      "metadata": {
        "id": "XisTy2oWlSG2"
      },
      "outputs": [],
      "source": [
        "def magnitude(user_id):\n",
        "    x2 = user_id['xAxis'] * user_id['xAxis']\n",
        "    y2 = user_id['yAxis'] * user_id['yAxis']\n",
        "    z2 = user_id['zAxis'] * user_id['zAxis']\n",
        "    m2 = x2 + y2 + z2\n",
        "    m = m2.apply(lambda x: math.sqrt(x))\n",
        "    return m\n",
        "    "
      ]
    },
    {
      "cell_type": "code",
      "execution_count": 125,
      "metadata": {
        "id": "I-M5qXfglUeP"
      },
      "outputs": [],
      "source": [
        "def window(axis,dx=100):\n",
        "    start = 0\n",
        "    size = axis.count()\n",
        "\n",
        "    while (start < size):\n",
        "        end = start + dx\n",
        "        yield start,end\n",
        "        start = start+int (dx/2)"
      ]
    },
    {
      "cell_type": "code",
      "execution_count": 126,
      "metadata": {
        "id": "c15jRV7-lXxI"
      },
      "outputs": [],
      "source": [
        "def window_summary(axis, start, end):\n",
        "    return [\n",
        "        axis[start:end],\n",
        "    ]"
      ]
    },
    {
      "cell_type": "code",
      "execution_count": 127,
      "metadata": {
        "id": "w6OW5_2llmsh"
      },
      "outputs": [],
      "source": [
        "def features(user_id):\n",
        "    for (start, end) in window(user_id['timestamp']):\n",
        "        features = []\n",
        "        for axis in ['xAxis', 'yAxis', 'zAxis', 'magnitude']:\n",
        "            features += window_summary(user_id[axis], start, end)\n",
        "        yield features     "
      ]
    },
    {
      "cell_type": "code",
      "execution_count": 128,
      "metadata": {
        "id": "Q8xNh6KDlpJF"
      },
      "outputs": [],
      "source": [
        "def calc_magnitudes():\n",
        "    for i in range (1,6):\n",
        "        user_list[i-1]['magnitude'] = magnitude(user_list[i-1])"
      ]
    },
    {
      "cell_type": "code",
      "execution_count": 129,
      "metadata": {
        "id": "yAVOcDbylsNH"
      },
      "outputs": [],
      "source": [
        "COLUMNS = ['timestamp', 'xAxis', 'yAxis', 'zAxis']\n",
        "user_list = []\n",
        "titles_list=[]\n",
        "user_to_auth = 0\n",
        "\n",
        "for i in range (1,6):\n",
        "    file_path = 'Dataset/'+str(i)+'.csv'\n",
        "    user_list.append((pd.read_csv(file_path,header=None,names=COLUMNS,nrows=300)))\n",
        "\n",
        "#Add an additional axis of magnitude of the sensor data\n",
        "calc_magnitudes() "
      ]
    },
    {
      "cell_type": "code",
      "execution_count": 130,
      "metadata": {},
      "outputs": [
        {
          "data": {
            "text/html": [
              "<div>\n",
              "<style scoped>\n",
              "    .dataframe tbody tr th:only-of-type {\n",
              "        vertical-align: middle;\n",
              "    }\n",
              "\n",
              "    .dataframe tbody tr th {\n",
              "        vertical-align: top;\n",
              "    }\n",
              "\n",
              "    .dataframe thead th {\n",
              "        text-align: right;\n",
              "    }\n",
              "</style>\n",
              "<table border=\"1\" class=\"dataframe\">\n",
              "  <thead>\n",
              "    <tr style=\"text-align: right;\">\n",
              "      <th></th>\n",
              "      <th>timestamp</th>\n",
              "      <th>xAxis</th>\n",
              "      <th>yAxis</th>\n",
              "      <th>zAxis</th>\n",
              "      <th>magnitude</th>\n",
              "    </tr>\n",
              "  </thead>\n",
              "  <tbody>\n",
              "    <tr>\n",
              "      <th>0</th>\n",
              "      <td>30.551</td>\n",
              "      <td>-3.7592</td>\n",
              "      <td>12.980</td>\n",
              "      <td>-2.1793</td>\n",
              "      <td>13.688000</td>\n",
              "    </tr>\n",
              "    <tr>\n",
              "      <th>1</th>\n",
              "      <td>30.580</td>\n",
              "      <td>-5.5571</td>\n",
              "      <td>13.484</td>\n",
              "      <td>-2.7513</td>\n",
              "      <td>14.841471</td>\n",
              "    </tr>\n",
              "    <tr>\n",
              "      <th>2</th>\n",
              "      <td>30.610</td>\n",
              "      <td>-6.1700</td>\n",
              "      <td>12.681</td>\n",
              "      <td>-2.4108</td>\n",
              "      <td>14.306943</td>\n",
              "    </tr>\n",
              "    <tr>\n",
              "      <th>3</th>\n",
              "      <td>30.640</td>\n",
              "      <td>-4.3313</td>\n",
              "      <td>9.507</td>\n",
              "      <td>-2.6832</td>\n",
              "      <td>10.786231</td>\n",
              "    </tr>\n",
              "    <tr>\n",
              "      <th>4</th>\n",
              "      <td>30.670</td>\n",
              "      <td>-4.0180</td>\n",
              "      <td>9.003</td>\n",
              "      <td>-4.0997</td>\n",
              "      <td>10.677353</td>\n",
              "    </tr>\n",
              "  </tbody>\n",
              "</table>\n",
              "</div>"
            ],
            "text/plain": [
              "   timestamp   xAxis   yAxis   zAxis  magnitude\n",
              "0     30.551 -3.7592  12.980 -2.1793  13.688000\n",
              "1     30.580 -5.5571  13.484 -2.7513  14.841471\n",
              "2     30.610 -6.1700  12.681 -2.4108  14.306943\n",
              "3     30.640 -4.3313   9.507 -2.6832  10.786231\n",
              "4     30.670 -4.0180   9.003 -4.0997  10.677353"
            ]
          },
          "execution_count": 130,
          "metadata": {},
          "output_type": "execute_result"
        }
      ],
      "source": [
        "user_list[0].head()"
      ]
    },
    {
      "cell_type": "code",
      "execution_count": 131,
      "metadata": {
        "id": "zdrjIB_pl1UT"
      },
      "outputs": [],
      "source": [
        "def insert_row(userlist):\n",
        "    for a,b,c,d,e in userlist.itertuples(index=False):\n",
        "        yield a,b,c,d,e\n"
      ]
    },
    {
      "cell_type": "markdown",
      "metadata": {
        "id": "ZvD1M7DZPNOK"
      },
      "source": []
    },
    {
      "cell_type": "code",
      "execution_count": 132,
      "metadata": {
        "id": "3RGgC_ycl95a"
      },
      "outputs": [],
      "source": [
        "with open('Features.csv', 'w+') as out:\n",
        "    rows = csv.writer(out)\n",
        "    for i in range(0, len(user_list)):\n",
        "        for a,b,c,d,e in user_list[i].itertuples(index=False):\n",
        "            rows.writerow([i+1]+[a]+[b]+[c]+[d]+[e])\n"
      ]
    }
  ],
  "metadata": {
    "colab": {
      "provenance": []
    },
    "kernelspec": {
      "display_name": "Python 3",
      "name": "python3"
    },
    "language_info": {
      "codemirror_mode": {
        "name": "ipython",
        "version": 3
      },
      "file_extension": ".py",
      "mimetype": "text/x-python",
      "name": "python",
      "nbconvert_exporter": "python",
      "pygments_lexer": "ipython3",
      "version": "3.10.6"
    }
  },
  "nbformat": 4,
  "nbformat_minor": 0
}
